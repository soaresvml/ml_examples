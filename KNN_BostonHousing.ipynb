{
 "cells": [
  {
   "cell_type": "code",
   "execution_count": 1,
   "metadata": {},
   "outputs": [
    {
     "name": "stderr",
     "output_type": "stream",
     "text": [
      "/home/svncjus/anaconda3/lib/python3.7/site-packages/sklearn/externals/six.py:31: FutureWarning: The module is deprecated in version 0.21 and will be removed in version 0.23 since we've dropped support for Python 2.7. Please rely on the official version of six (https://pypi.org/project/six/).\n",
      "  \"(https://pypi.org/project/six/).\", FutureWarning)\n"
     ]
    }
   ],
   "source": [
    "# Este exemplo carrega a base Wine da UCI, treina uma árvode de decisão usando\n",
    "# holdout e outra usando validação cruzada com 10 pastas.\n",
    "# Importa bibliotecas necessárias\n",
    "import numpy as np\n",
    "from sklearn.model_selection import cross_validate\n",
    "from sklearn.metrics import confusion_matrix\n",
    "from sklearn.model_selection import train_test_split\n",
    "from sklearn.externals.six import StringIO\n",
    "from sklearn.tree import export_graphviz\n",
    "from IPython.display import Image\n",
    "from IPython.display import display\n",
    "import pydotplus\n",
    "import ssl\n",
    "from sklearn.model_selection import KFold\n",
    "from sklearn.model_selection import cross_val_predict\n",
    "\n",
    "from sklearn.datasets import load_boston\n",
    "from sklearn.metrics import r2_score\n",
    "\n",
    "from sklearn.neighbors import KNeighborsRegressor"
   ]
  },
  {
   "cell_type": "code",
   "execution_count": 2,
   "metadata": {},
   "outputs": [
    {
     "name": "stdout",
     "output_type": "stream",
     "text": [
      "Predição do valor de residências em Boston (Regressão)\n",
      "Quantidade de instâncias e atributos\n",
      "(506, 13)\n"
     ]
    }
   ],
   "source": [
    "# Carrega a base Boston\n",
    "boston = load_boston()\n",
    "X, y = boston['data'], boston['target']\n",
    "print(\"Predição do valor de residências em Boston (Regressão)\")\n",
    "print(\"Quantidade de instâncias e atributos\")\n",
    "print(X.shape) "
   ]
  },
  {
   "cell_type": "code",
   "execution_count": 3,
   "metadata": {},
   "outputs": [],
   "source": [
    "# Holdout 70% treinamento e 30% para teste\n",
    "X_train, X_test, y_train, y_test = train_test_split(X,y,test_size=.3, random_state=0) "
   ]
  },
  {
   "cell_type": "code",
   "execution_count": 4,
   "metadata": {},
   "outputs": [],
   "source": [
    "# Declara a árvore de regressão\n",
    "regressor = KNeighborsRegressor(n_neighbors=5)"
   ]
  },
  {
   "cell_type": "code",
   "execution_count": 5,
   "metadata": {},
   "outputs": [],
   "source": [
    "# Treina a árvore de regressão\n",
    "regressor.fit(X_train, y_train)\n",
    "output_prediction = regressor.predict(X_test) "
   ]
  },
  {
   "cell_type": "code",
   "execution_count": 6,
   "metadata": {},
   "outputs": [
    {
     "name": "stdout",
     "output_type": "stream",
     "text": [
      "\n",
      "Avaliação utilizando Holdout com 30% para teste\n",
      "R2 score: 0.52\n"
     ]
    }
   ],
   "source": [
    "# Imprime os resultados do experimento baseado em holdout\n",
    "print(\"\\nAvaliação utilizando Holdout com 30% para teste\")\n",
    "print(\"R2 score: %.2f\" % r2_score(y_test, output_prediction))"
   ]
  },
  {
   "cell_type": "code",
   "execution_count": 7,
   "metadata": {},
   "outputs": [],
   "source": [
    "# Validação Cruzuzada com 3 folds\n",
    "#declara uma nova árvore de regressão\n",
    "    regressor1 = KNeighborsRegressor(n_neighbors=5)"
   ]
  },
  {
   "cell_type": "code",
   "execution_count": 10,
   "metadata": {},
   "outputs": [],
   "source": [
    "# define a quantidade de folds ou pastas e executa a validação cruzada\n",
    "folds=5\n",
    "result = cross_validate(regressor1, X, y, cv=folds) "
   ]
  },
  {
   "cell_type": "code",
   "execution_count": 11,
   "metadata": {},
   "outputs": [
    {
     "name": "stdout",
     "output_type": "stream",
     "text": [
      "\n",
      "Avaliação usando Validação Cruzada com 5 folds\n",
      "R2 scores = {'fit_time': array([0.00134468, 0.00135326, 0.0011704 , 0.00106025, 0.00124526]), 'score_time': array([0.00368905, 0.00343513, 0.00321651, 0.00318956, 0.00305772]), 'test_score': array([-1.10921186,  0.14934963, -0.4259195 , -0.01474393, -0.17455668])}\n",
      "R2 score médio: -0.32\n"
     ]
    }
   ],
   "source": [
    "# Imprime os resultados da validação cruzada\n",
    "print(\"\\nAvaliação usando Validação Cruzada com %d folds\" % folds)\n",
    "print(\"R2 scores = \" + str(result))\n",
    "print(\"R2 score médio: %.2f\" % (result['test_score'].mean())) "
   ]
  },
  {
   "cell_type": "code",
   "execution_count": null,
   "metadata": {},
   "outputs": [],
   "source": []
  }
 ],
 "metadata": {
  "kernelspec": {
   "display_name": "Python 3",
   "language": "python",
   "name": "python3"
  },
  "language_info": {
   "codemirror_mode": {
    "name": "ipython",
    "version": 3
   },
   "file_extension": ".py",
   "mimetype": "text/x-python",
   "name": "python",
   "nbconvert_exporter": "python",
   "pygments_lexer": "ipython3",
   "version": "3.7.3"
  }
 },
 "nbformat": 4,
 "nbformat_minor": 4
}
