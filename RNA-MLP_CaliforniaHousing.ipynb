{
 "cells": [
  {
   "cell_type": "code",
   "execution_count": 1,
   "metadata": {},
   "outputs": [
    {
     "name": "stderr",
     "output_type": "stream",
     "text": [
      "/home/svncjus/anaconda3/lib/python3.7/site-packages/sklearn/externals/six.py:31: FutureWarning: The module is deprecated in version 0.21 and will be removed in version 0.23 since we've dropped support for Python 2.7. Please rely on the official version of six (https://pypi.org/project/six/).\n",
      "  \"(https://pypi.org/project/six/).\", FutureWarning)\n"
     ]
    }
   ],
   "source": [
    "# Este exemplo carrega a base Wine da UCI, treina uma árvode de decisão usando\n",
    "# holdout e outra usando validação cruzada com 10 pastas.\n",
    "# Importa bibliotecas necessárias\n",
    "import numpy as np\n",
    "from sklearn.model_selection import cross_validate\n",
    "from sklearn.metrics import confusion_matrix\n",
    "from sklearn.model_selection import train_test_split\n",
    "from sklearn.externals.six import StringIO\n",
    "from sklearn.tree import export_graphviz\n",
    "from IPython.display import Image\n",
    "from IPython.display import display\n",
    "import pydotplus\n",
    "import ssl\n",
    "from sklearn.model_selection import KFold\n",
    "from sklearn.model_selection import cross_val_predict\n",
    "\n",
    "from sklearn.metrics import r2_score\n",
    "\n",
    "from sklearn.neural_network import MLPRegressor"
   ]
  },
  {
   "cell_type": "code",
   "execution_count": 2,
   "metadata": {
    "collapsed": true
   },
   "outputs": [],
   "source": [
    "from sklearn.datasets import fetch_california_housing\n",
    "X_full, y_full = fetch_california_housing(return_X_y=True)\n",
    "# ~2k samples is enough for the purpose of the example.\n",
    "# Remove the following two lines for a slower run with different error bars.\n",
    "X = X_full[::10]\n",
    "y = y_full[::10]\n",
    "n_samples, n_features = X_full.shape"
   ]
  },
  {
   "cell_type": "code",
   "execution_count": 3,
   "metadata": {},
   "outputs": [],
   "source": [
    "# Holdout 70% treinamento e 30% para teste\n",
    "X_train, X_test, y_train, y_test = train_test_split(X,y,test_size=.3, random_state=0) "
   ]
  },
  {
   "cell_type": "code",
   "execution_count": 4,
   "metadata": {},
   "outputs": [],
   "source": [
    "# Declara a árvore de regressão\n",
    "regressor = MLPRegressor(hidden_layer_sizes=(8), activation='relu', max_iter=200, solver='adam', tol=0.0001, \n",
    "                         alpha=0.0001, batch_size='auto', learning_rate='constant', learning_rate_init=0.001, \n",
    "                         power_t=0.5, shuffle=True, random_state=None, verbose=False, \n",
    "                         warm_start=False, momentum=0.9, nesterovs_momentum=True, early_stopping=False, \n",
    "                         validation_fraction=0.1, beta_1=0.9, beta_2=0.999, epsilon=1e-08, n_iter_no_change=10, \n",
    "                         max_fun=15000)"
   ]
  },
  {
   "cell_type": "code",
   "execution_count": 5,
   "metadata": {},
   "outputs": [
    {
     "name": "stderr",
     "output_type": "stream",
     "text": [
      "/home/svncjus/anaconda3/lib/python3.7/site-packages/sklearn/neural_network/_multilayer_perceptron.py:571: ConvergenceWarning: Stochastic Optimizer: Maximum iterations (200) reached and the optimization hasn't converged yet.\n",
      "  % self.max_iter, ConvergenceWarning)\n"
     ]
    }
   ],
   "source": [
    "# Treina a árvore de regressão\n",
    "regressor.fit(X_train, y_train)\n",
    "output_prediction = regressor.predict(X_test) "
   ]
  },
  {
   "cell_type": "code",
   "execution_count": 6,
   "metadata": {},
   "outputs": [
    {
     "name": "stdout",
     "output_type": "stream",
     "text": [
      "\n",
      "Avaliação utilizando Holdout com 30% para teste\n",
      "R2 score: -3.13\n"
     ]
    }
   ],
   "source": [
    "# Imprime os resultados do experimento baseado em holdout\n",
    "print(\"\\nAvaliação utilizando Holdout com 30% para teste\")\n",
    "print(\"R2 score: %.2f\" % r2_score(y_test, output_prediction))"
   ]
  },
  {
   "cell_type": "code",
   "execution_count": 7,
   "metadata": {},
   "outputs": [],
   "source": [
    "# Validação Cruzuzada com 3 folds\n",
    "#declara uma nova árvore de regressão\n",
    "regressor1 = MLPRegressor(hidden_layer_sizes=(8), activation='relu', max_iter=200, solver='adam', tol=0.0001, \n",
    "                         alpha=0.0001, batch_size='auto', learning_rate='constant', learning_rate_init=0.001, \n",
    "                         power_t=0.5, shuffle=True, random_state=None, verbose=False, \n",
    "                         warm_start=False, momentum=0.9, nesterovs_momentum=True, early_stopping=False, \n",
    "                         validation_fraction=0.1, beta_1=0.9, beta_2=0.999, epsilon=1e-08, n_iter_no_change=10, \n",
    "                         max_fun=15000)"
   ]
  },
  {
   "cell_type": "code",
   "execution_count": 8,
   "metadata": {},
   "outputs": [
    {
     "name": "stderr",
     "output_type": "stream",
     "text": [
      "/home/svncjus/anaconda3/lib/python3.7/site-packages/sklearn/neural_network/_multilayer_perceptron.py:571: ConvergenceWarning: Stochastic Optimizer: Maximum iterations (200) reached and the optimization hasn't converged yet.\n",
      "  % self.max_iter, ConvergenceWarning)\n",
      "/home/svncjus/anaconda3/lib/python3.7/site-packages/sklearn/neural_network/_multilayer_perceptron.py:571: ConvergenceWarning: Stochastic Optimizer: Maximum iterations (200) reached and the optimization hasn't converged yet.\n",
      "  % self.max_iter, ConvergenceWarning)\n",
      "/home/svncjus/anaconda3/lib/python3.7/site-packages/sklearn/neural_network/_multilayer_perceptron.py:571: ConvergenceWarning: Stochastic Optimizer: Maximum iterations (200) reached and the optimization hasn't converged yet.\n",
      "  % self.max_iter, ConvergenceWarning)\n",
      "/home/svncjus/anaconda3/lib/python3.7/site-packages/sklearn/neural_network/_multilayer_perceptron.py:571: ConvergenceWarning: Stochastic Optimizer: Maximum iterations (200) reached and the optimization hasn't converged yet.\n",
      "  % self.max_iter, ConvergenceWarning)\n",
      "/home/svncjus/anaconda3/lib/python3.7/site-packages/sklearn/neural_network/_multilayer_perceptron.py:571: ConvergenceWarning: Stochastic Optimizer: Maximum iterations (200) reached and the optimization hasn't converged yet.\n",
      "  % self.max_iter, ConvergenceWarning)\n"
     ]
    }
   ],
   "source": [
    "# define a quantidade de folds ou pastas e executa a validação cruzada\n",
    "folds=5\n",
    "result = cross_validate(regressor1, X, y, cv=folds) "
   ]
  },
  {
   "cell_type": "code",
   "execution_count": 9,
   "metadata": {},
   "outputs": [
    {
     "name": "stdout",
     "output_type": "stream",
     "text": [
      "\n",
      "Avaliação usando Validação Cruzada com 5 folds\n",
      "R2 scores = {'fit_time': array([0.78442907, 0.78407884, 0.77685905, 0.77489281, 0.89271569]), 'score_time': array([0.00133085, 0.00128508, 0.00107241, 0.00128865, 0.00137496]), 'test_score': array([ -7.30333934, -11.45373609,  -7.0964286 , -72.72438915,\n",
      "        -0.53960454])}\n",
      "R2 score médio: -19.82\n"
     ]
    }
   ],
   "source": [
    "# Imprime os resultados da validação cruzada\n",
    "print(\"\\nAvaliação usando Validação Cruzada com %d folds\" % folds)\n",
    "print(\"R2 scores = \" + str(result))\n",
    "print(\"R2 score médio: %.2f\" % (result['test_score'].mean())) "
   ]
  },
  {
   "cell_type": "code",
   "execution_count": null,
   "metadata": {},
   "outputs": [],
   "source": []
  }
 ],
 "metadata": {
  "kernelspec": {
   "display_name": "Python 3",
   "language": "python",
   "name": "python3"
  },
  "language_info": {
   "codemirror_mode": {
    "name": "ipython",
    "version": 3
   },
   "file_extension": ".py",
   "mimetype": "text/x-python",
   "name": "python",
   "nbconvert_exporter": "python",
   "pygments_lexer": "ipython3",
   "version": "3.7.3"
  }
 },
 "nbformat": 4,
 "nbformat_minor": 4
}
